{
 "cells": [
  {
   "cell_type": "code",
   "execution_count": null,
   "id": "7c4b85ee",
   "metadata": {
    "scrolled": true
   },
   "outputs": [],
   "source": [
    "#1. Which of the following operators is used to calculate remainder in a division?\n",
    "# %"
   ]
  },
  {
   "cell_type": "code",
   "execution_count": null,
   "id": "82e8b4f1",
   "metadata": {},
   "outputs": [],
   "source": [
    "#2. In python 2//3 is equal to?\n",
    "2//3"
   ]
  },
  {
   "cell_type": "code",
   "execution_count": null,
   "id": "33c83477",
   "metadata": {},
   "outputs": [],
   "source": [
    "#3. In python, 6<<2 is equal to?\n",
    "6<<2"
   ]
  },
  {
   "cell_type": "code",
   "execution_count": null,
   "id": "7f3aede8",
   "metadata": {},
   "outputs": [],
   "source": [
    "#4. In python, 6&2 will give which of the following as output?\n",
    "6&2"
   ]
  },
  {
   "cell_type": "code",
   "execution_count": null,
   "id": "501c816e",
   "metadata": {},
   "outputs": [],
   "source": [
    "#5. In python, 6|2 will give which of the following as output?\n",
    "6|2"
   ]
  },
  {
   "cell_type": "code",
   "execution_count": null,
   "id": "16973088",
   "metadata": {},
   "outputs": [],
   "source": [
    "#6. What does the finally keyword denotes in python?\n",
    "#A) It is used to mark the end of the code"
   ]
  },
  {
   "cell_type": "code",
   "execution_count": null,
   "id": "60393172",
   "metadata": {},
   "outputs": [],
   "source": [
    "#7. What does raise keyword is used for in python?\n",
    "#A) It is used to raise an exception."
   ]
  },
  {
   "cell_type": "code",
   "execution_count": null,
   "id": "22d52ed6",
   "metadata": {},
   "outputs": [],
   "source": [
    "#8. Which of the following is a common use case of yield keyword in python?\n",
    "#C) in defining a generator"
   ]
  },
  {
   "cell_type": "code",
   "execution_count": null,
   "id": "e53af070",
   "metadata": {},
   "outputs": [],
   "source": [
    "#9. Which of the following are the valid variable names?\n",
    "#A) _abc\n",
    "#C) abc2"
   ]
  },
  {
   "cell_type": "code",
   "execution_count": null,
   "id": "56fedc6c",
   "metadata": {},
   "outputs": [],
   "source": [
    "#10. Which of the following are the keywords in python?\n",
    "#A) yield B) raise"
   ]
  },
  {
   "cell_type": "code",
   "execution_count": null,
   "id": "5ef9b1b4",
   "metadata": {},
   "outputs": [],
   "source": [
    "#11. Write a python program to find the factorial of a number\n",
    "num=int(input(\"enter a number:\"))\n",
    "factorial=1\n",
    "if num==0:\n",
    "    print(\"factorial of 0 is 1\")\n",
    "else:\n",
    "    for i in range(1,num+1):\n",
    "        factorial=factorial*i\n",
    "    print(\"the factorial of\",num,\"is\",factorial)"
   ]
  },
  {
   "cell_type": "code",
   "execution_count": null,
   "id": "8c605029",
   "metadata": {},
   "outputs": [],
   "source": [
    "#12. Write a python program to find whether a number is prime or composite\n",
    "n=int(input(\"enter any number:\"))\n",
    "if(n==0 or n==1):\n",
    "    print(n,\"number is neither prime or composite\")\n",
    "elif n>1:\n",
    "    for i in range (2,n):\n",
    "        if(n%i==0):\n",
    "            print(n,\"is not prime but composite number\")\n",
    "            break\n",
    "    else:\n",
    "        print(n,\"number is prime but not composite\")\n",
    "else:\n",
    "    print(\"enter positive number only\")"
   ]
  },
  {
   "cell_type": "code",
   "execution_count": null,
   "id": "79f2778d",
   "metadata": {},
   "outputs": [],
   "source": [
    "#13. Write a python program to check whether a given string is palindrome or not\n",
    "num=int(input(\"enter any number\"))\n",
    "a=num\n",
    "b=0\n",
    "while a!=0:\n",
    "    b=(b*10)+(a%10)\n",
    "    a=a//10\n",
    "if num==b:\n",
    "    print(\"Is a Palindrome\")\n",
    "else:\n",
    "    print(\"Is not a Palindrome\")"
   ]
  },
  {
   "cell_type": "code",
   "execution_count": null,
   "id": "fcaa7ee5",
   "metadata": {},
   "outputs": [],
   "source": [
    "#14. Write a Python program to get the third side of right-angled triangle from two given sides\n",
    "def pythagoras(opposite_side,adjacent_side,hypotenuse):\n",
    "        if opposite_side == str(\"x\"):\n",
    "            return (\"Opposite = \" + str(((hypotenuse**2) - (adjacent_side**2))**0.5))\n",
    "        elif adjacent_side == str(\"x\"):\n",
    "            return (\"Adjacent = \" + str(((hypotenuse**2) - (opposite_side**2))**0.5))\n",
    "        elif hypotenuse == str(\"x\"):\n",
    "            return (\"Hypotenuse = \" + str(((opposite_side**2) + (adjacent_side**2))**0.5))\n",
    "        else:\n",
    "            return \"You know the answer!\"\n",
    "    \n",
    "print(pythagoras(3,4,'x'))\n",
    "print(pythagoras(3,'x',5))\n",
    "print(pythagoras('x',4,5))\n",
    "print(pythagoras(3,4,5))"
   ]
  },
  {
   "cell_type": "code",
   "execution_count": null,
   "id": "1e97cd64",
   "metadata": {},
   "outputs": [],
   "source": [
    "#15. Write a python program to print the frequency of each of the characters present in a given string\n",
    "str1 = input (\"Enter the string: \")\n",
    "d = dict()\n",
    "for c in str1:\n",
    "    if c in d:\n",
    "        d[c] = d[c] + 1\n",
    "    else:\n",
    "        d[c] = 1\n",
    "print(d)"
   ]
  },
  {
   "cell_type": "code",
   "execution_count": null,
   "id": "3dbfd02a",
   "metadata": {},
   "outputs": [],
   "source": []
  }
 ],
 "metadata": {
  "kernelspec": {
   "display_name": "Python 3 (ipykernel)",
   "language": "python",
   "name": "python3"
  },
  "language_info": {
   "codemirror_mode": {
    "name": "ipython",
    "version": 3
   },
   "file_extension": ".py",
   "mimetype": "text/x-python",
   "name": "python",
   "nbconvert_exporter": "python",
   "pygments_lexer": "ipython3",
   "version": "3.9.7"
  }
 },
 "nbformat": 4,
 "nbformat_minor": 5
}
